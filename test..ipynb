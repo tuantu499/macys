{
 "cells": [
  {
   "cell_type": "code",
   "execution_count": null,
   "metadata": {},
   "outputs": [],
   "source": [
    "f = open('men shoes.txt', 'r').readlines()"
   ]
  },
  {
   "cell_type": "code",
   "execution_count": null,
   "metadata": {},
   "outputs": [],
   "source": [
    "print(f)"
   ]
  },
  {
   "cell_type": "code",
   "execution_count": 2,
   "metadata": {},
   "outputs": [
    {
     "name": "stdout",
     "output_type": "stream",
     "text": [
      "[{'title': \"Men'sGRANDPRÃ˜RallyCanvasCourtSneakerMen'sStripeLace-UpSneakers,CreatedforMacy'sMenâ€™sTollandCap-ToeOxfords,CreatedforMacyâ€™sMen'sGraysonLace-UpSneakers,CreatedforMacy'sMen'sOriginalGrandStitchliteWingtipOxfordsKennethColeMen'sStandTennis-StyleSneakersMen'sJettHigh-TopSneakersMen'sElstonLace-UpOxfordSneakers,CreatedforMacy'sMen'sAndrewPlainToeDerbys,CreatedforMacy'sMen'sZERÃ˜GRANDOmniLace-UpSneakersMen'sEganDrivingLoafers,CreatedforMacy'sMen'sFiresideMelbourneGenuineShearlingMoccasinSlippersMen'sLowLineSignatureLow-TopSneakersMen'sAdamDuckBootsMen'sAndrewPlainToeDerbys,CreatedforMacy'sMen'sAshtonAnkleBoot,CreatedforMacy'sMen'sAndresAnkleBoot,CreatedforMacy'sMen'sLace-UpBoots,CreatedforMacy'sMen'sWhiddonCap-ToeOxfordsMen'sWhiddonStepLoafersMen'sDickinsonCapToeOxfordsMen'sJonahChelseaBoot,CreatedforMacy'sMen'sAuthenticOriginalA/OBoatShoeMen'sOliverBoot,CreatedforMacy'sMen'sKlayFlexCap-ToeOxfordsMen'sCap-ToeLaceUpBootsMen'sCalipaCap-ToeOxfords,CreatedforMacy'sMen'sBeauBitPerforatedLoaferMen'sQuincyCap-ToeLace-UpShoes,CreatedforMacy'sMen'sGrandSeriesJensenSneakersMen'sArthurLugSoleBoot,CreatedforMacy'sMen'sGlennSherpaCollarMid-HeightBoots,CreatedforMacy'sMen'sTahoeFeatherfeelBootsMen'sZeroGrandWingtipOxfordsMen'sOtisBitLoafers,CreatedforMacy'sMen'sKylarOxfordsMen'sLessonPlanOxfordsMen'sSportSlidesMen'sZionSmokingSlipperLoafers,CreatedforMacy'sMen'sZERÃ˜GRANDOmniHikerBootsMen'sWhitterCrossSandals,CreatedforMacy'sMen'sDriver,CreatedforMacy'sMen'sTaborPlainToeOxfordMen'sBarrettChukkaBoot,CreatedforMacy'sMen'sShacreBootsMen'sElstonLace-UpOxfordSneakers,CreatedforMacy'sMen'sBenjaminOxfordShoes,CreatedforMacy'sMen'sWarnerPatentLace-UpOxfords,CreatedforMacy'sMen'sOriginalGrandWingOxfordsMen'sOriginalGrandWingOxfordsMen'sGarrisonWing-TipOxfordMen'sKivaLace-UpCoreSneakers,CreatedforMacy'sMen'sKORECityWalkSlip-OnSneakersMen'sAvenueDuckBootsMen'sBushacre2ChukkaBootsMen'sBrunnerBoatShoes,CreatedforMacy'sINCMen'sEzraSneakers,CreatedforMacy'sMen'sOmniChelseaWater-ResistantBootsMen'sDevinLace-UpSneakers,CreatedforMacy'sMen'sRocklandMemoryFoamChelseaBootMen'sZerograndWinnerTennisSneakersMen'sEganHardwareDrivingLoafers,CreatedforMacy'sMen'sHaydanPatentSlip-OnLoafers,CreatedforMacy'sMen'sBrendanHikingBootsMen'sDunbarWingtipOxfordsMen'sIkerPennyDrivingLoafers,CreatedforMacy'sKennethColeMen'sQuinnFlip-FlopSandalsMen'sMadisonOxfordAngeloCap-ToeOxfordsMen'sZerograndStitchLiteOxfordsMen'sWhiddonPaceOxfordsMen'sGrandPrÃ¸RallyCanvasPennyLoafersMen'sCourtLegacySlip-OnCasualSneakersfromFinishLineMen'sDuncanCap-ToeSingleMonkStrapShoes,CreatedforMacy'sMen'sMoccasinSlippers,CreatedforMacy'sMen'sSlip-OnMoccasinSlippers,CreatedforMacy'sMen'sCenterOxfordsMen'sLaceUpBoots,CreatedforMacy'sMen'sHarkenChukkaBootsMen'sTahoeFeatherfeelWingtipOxfordDressShoesMen'sOriginalsStanSmithPrimegreenCasualSneakersfromFinishLineMen'sRenewElevate2BasketballSneakersfromFinishLineMen'sTinsleyWingtipOxfordsMen'sKORECityWalkLow-TopSneakersMen'sTildenCapToeOxfordMen'sVelvetDriver,CreatedforMacy'sMen'sAragonIIKiltieTasselLoaferMen'sDawsonBitDriversMen'sFauxPatentLeatherDriver,CreatedforMacy'sHUGOMen'sZeroTennisSneakersMen'sBerkleyPennyLoaferMen'sFlyByMid2BasketballSneakersfromFinishLineEastlandMen'sLumberUpBootsMen'sKylerCorduroyClogs,CreatedforMacy'sMen'sSorrentoSingle-MonkStrapShoesMen'sLiteRacerAdapt4Slip-OnCasualAthleticSneakersfromFinishLineMenâ€™sDriveMemoryFoamLoaferMen'sBoatShoes,CreatedforMacy'sMen'sHurricaneXLT2Water-ResistantSandalsMen'sBillfish3-EyeBoatShoeMen'sGrandCrosscourtModernSneakersMen'sKineticRipstopSneakersMen'sZERÃ˜GRANDChelseaWaterproofBootsMen'sOriginalGrandCloudfeelEnergyOxfordsMen'sYorkChukkaBootsMen'sLowProfileSneakers,CreatedforMacy'sMen'sConardCap-ToeOxfordMen'sSantaAnaFlip-FlopSandalsMen'sFinQuiltedLace-UpPufferBoots,CreatedforMacy'sElkhartWaterproofLace-UpBootsMen'sUn-AnchorBoatShoesMen'sAndresAnkleBoot,CreatedforMacy'sCopelandChukkaBootsMen'sGraysonSuedeLace-UpSneakers,CreatedforMacy'sMen'sTaborCapToeOxfordMen'sColorblockedLace-UpSneakers,CreatedforMacy'sMen'sGrandCrosscourtModernPerforatedSneakersMen'sZERÃ˜GRANDOmniSlip-OnVenetianLoafersMen'sLogoSneakers,\", 'price': 'CAD134.55CAD67.26CAD94.17CAD80.72CAD201.82CAD100.91CAD94.17CAD80.72CAD80.72CAD188.37CAD94.17CAD113.02CAD201.82CAD100.91CAD37.58CAD80.72CAD94.17CAD34.89CAD107.62CAD40.27CAD94.17CAD47.09CAD134.55CAD134.55CAD148.00CAD94.17CAD34.89CAD127.82CAD94.17CAD34.89CAD168.19CAD94.17CAD47.09CAD168.19CAD127.82-134.55CAD80.72CAD201.82CAD94.17CAD34.89CAD94.17CAD34.89CAD255.64CAD127.82CAD262.37CAD80.72CAD131.86CAD100.91CAD127.82CAD94.17CAD296.01CAD80.72CAD29.51-80.72CAD80.72CAD40.36CAD134.52CAD94.17CAD34.89CAD161.46CAD80.72CAD40.36CAD80.72CAD94.17CAD201.82-215.28CAD215.28CAD134.55CAD67.26CAD25.47-67.26CAD107.64CAD148.00CAD74.00CAD148.00CAD94.17CAD34.89CAD107.62CAD53.82CAD296.01CAD94.17CAD47.09CAD121.09CAD174.91CAD87.46CAD94.17CAD94.17CAD100.91CAD37.58CAD141.28CAD94.17CAD52.47CAD20.09-52.47CAD174.89CAD168.19CAD248.91CAD134.55CAD100.91-134.55CAD74.00CAD60.55CAD148.00CAD40.36CAD40.36CAD16.05CAD161.46CAD121.08CAD45.65CAD121.09CAD215.28CAD127.82CAD107.64CAD168.19CAD107.64CAD121.09CAD94.17CAD47.09CAD134.52CAD133.20CAD94.17CAD47.09CAD201.82CAD161.46CAD87.46CAD181.64CAD67.26CAD33.64CAD161.46CAD87.46CAD114.37CAD80.72CAD40.36CAD100.91CAD134.55CAD201.82CAD100.91CAD174.91CAD41.66-174.91CAD282.55CAD363.28CAD269.10CAD107.62CAD40.27-53.82CAD200.48CAD67.27CAD80.72CAD29.51CAD242.19CAD94.18CAD107.62CAD227.39CAD80.72CAD134.52CAD67.26CAD25.47CAD201.82CAD100.91CAD296.01CAD121.09,'}]\n"
     ]
    }
   ],
   "source": [
    "from distutils import extension\n",
    "from email.policy import default\n",
    "from lxml import html\n",
    "import re\n",
    "import json\n",
    "import csv\n",
    "import click\n",
    "from itertools import chain\n",
    "import re\n",
    "\n",
    "\n",
    "file = open(\"men shoes.txt\")\n",
    "line = file.read().replace(\"\\n\", \" \")\n",
    "file.close()\n",
    "tree = html.fromstring(html=line)\n",
    "book_information = []\n",
    "all_product = tree.xpath(\"//div[@class = 'cell']/ul\")\n",
    "for product in all_product:\n",
    "    c = {\n",
    "        'title' : re.sub('\\s+', '', (\"\".join(chain(*product.xpath(\".//li/div/div[@class ='productDetail']/div/a/text()\"))))) + ',',\n",
    "        'price' : re.sub('\\s+', '', (\"\".join(chain(*product.xpath(\".//li/div/div[@class ='productDetail']/div/div/div/div/span/text()\"))))) +','\n",
    "    }\n",
    "    book_information.append(c)\n",
    "print(book_information)\n"
   ]
  },
  {
   "cell_type": "code",
   "execution_count": 3,
   "metadata": {},
   "outputs": [
    {
     "ename": "AttributeError",
     "evalue": "'list' object has no attribute 'xpath'",
     "output_type": "error",
     "traceback": [
      "\u001b[1;31m---------------------------------------------------------------------------\u001b[0m",
      "\u001b[1;31mAttributeError\u001b[0m                            Traceback (most recent call last)",
      "\u001b[1;32mc:\\Users\\tuant\\Desktop\\training\\macys\\test..ipynb Cell 4'\u001b[0m in \u001b[0;36m<cell line: 17>\u001b[1;34m()\u001b[0m\n\u001b[0;32m     <a href='vscode-notebook-cell:/c%3A/Users/tuant/Desktop/training/macys/test..ipynb#ch0000003?line=14'>15</a>\u001b[0m tree \u001b[39m=\u001b[39m html\u001b[39m.\u001b[39mfromstring(html\u001b[39m=\u001b[39mline)\n\u001b[0;32m     <a href='vscode-notebook-cell:/c%3A/Users/tuant/Desktop/training/macys/test..ipynb#ch0000003?line=15'>16</a>\u001b[0m all_product \u001b[39m=\u001b[39m tree\u001b[39m.\u001b[39mxpath(\u001b[39m\"\u001b[39m\u001b[39m//div[@class = \u001b[39m\u001b[39m'\u001b[39m\u001b[39mcell\u001b[39m\u001b[39m'\u001b[39m\u001b[39m]/ul\u001b[39m\u001b[39m\"\u001b[39m)\n\u001b[1;32m---> <a href='vscode-notebook-cell:/c%3A/Users/tuant/Desktop/training/macys/test..ipynb#ch0000003?line=16'>17</a>\u001b[0m title \u001b[39m=\u001b[39m re\u001b[39m.\u001b[39msub(\u001b[39m'\u001b[39m\u001b[39m\\\u001b[39m\u001b[39ms+\u001b[39m\u001b[39m'\u001b[39m, \u001b[39m'\u001b[39m\u001b[39m'\u001b[39m, (\u001b[39m\"\u001b[39m\u001b[39m\"\u001b[39m\u001b[39m.\u001b[39mjoin(chain(\u001b[39m*\u001b[39mall_product\u001b[39m.\u001b[39;49mxpath(\u001b[39m\"\u001b[39m\u001b[39m.//li/div/div[@class =\u001b[39m\u001b[39m'\u001b[39m\u001b[39mproductDetail\u001b[39m\u001b[39m'\u001b[39m\u001b[39m]/div/a/text()\u001b[39m\u001b[39m\"\u001b[39m))))) \n\u001b[0;32m     <a href='vscode-notebook-cell:/c%3A/Users/tuant/Desktop/training/macys/test..ipynb#ch0000003?line=17'>18</a>\u001b[0m price \u001b[39m=\u001b[39m re\u001b[39m.\u001b[39msub(\u001b[39m'\u001b[39m\u001b[39m\\\u001b[39m\u001b[39ms+\u001b[39m\u001b[39m'\u001b[39m, \u001b[39m'\u001b[39m\u001b[39m'\u001b[39m, (\u001b[39m\"\u001b[39m\u001b[39m\"\u001b[39m\u001b[39m.\u001b[39mjoin(chain(\u001b[39m*\u001b[39mall_product\u001b[39m.\u001b[39mxpath(\u001b[39m\"\u001b[39m\u001b[39m.//li/div/div[@class =\u001b[39m\u001b[39m'\u001b[39m\u001b[39mproductDetail\u001b[39m\u001b[39m'\u001b[39m\u001b[39m]/div/div/div/div/span/text()\u001b[39m\u001b[39m\"\u001b[39m))))) \n\u001b[0;32m     <a href='vscode-notebook-cell:/c%3A/Users/tuant/Desktop/training/macys/test..ipynb#ch0000003?line=18'>19</a>\u001b[0m \u001b[39mprint\u001b[39m(title)\n",
      "\u001b[1;31mAttributeError\u001b[0m: 'list' object has no attribute 'xpath'"
     ]
    }
   ],
   "source": [
    "from distutils import extension\n",
    "from email.policy import default\n",
    "from lxml import html\n",
    "import re\n",
    "import json\n",
    "import csv\n",
    "import click\n",
    "from itertools import chain\n",
    "import re\n",
    "\n",
    "\n",
    "file = open(\"men shoes.txt\")\n",
    "line = file.read().replace(\"\\n\", \" \")\n",
    "file.close()\n",
    "tree = html.fromstring(html=line)\n",
    "all_product = tree.xpath(\"//div[@class = 'cell']/ul\")[0]\n",
    "title = re.sub('\\s+', '', (\"\".join(chain(*all_product.xpath(\".//li/div/div[@class ='productDetail']/div/a/text()\"))))) \n",
    "price = re.sub('\\s+', '', (\"\".join(chain(*all_product.xpath(\".//li/div/div[@class ='productDetail']/div/div/div/div/span/text()\"))))) \n",
    "print(title)\n"
   ]
  },
  {
   "cell_type": "code",
   "execution_count": null,
   "metadata": {},
   "outputs": [],
   "source": []
  }
 ],
 "metadata": {
  "interpreter": {
   "hash": "75453d17ff4a1c08e9da0f05fac7e778603210d154bc8d039437a4b265703bf4"
  },
  "kernelspec": {
   "display_name": "Python 3.10.2 ('training-SMuec5IU')",
   "language": "python",
   "name": "python3"
  },
  "language_info": {
   "codemirror_mode": {
    "name": "ipython",
    "version": 3
   },
   "file_extension": ".py",
   "mimetype": "text/x-python",
   "name": "python",
   "nbconvert_exporter": "python",
   "pygments_lexer": "ipython3",
   "version": "3.10.2"
  },
  "orig_nbformat": 4
 },
 "nbformat": 4,
 "nbformat_minor": 2
}
